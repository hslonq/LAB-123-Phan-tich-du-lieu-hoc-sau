{
  "nbformat": 4,
  "nbformat_minor": 0,
  "metadata": {
    "colab": {
      "provenance": []
    },
    "kernelspec": {
      "name": "python3",
      "display_name": "Python 3"
    },
    "language_info": {
      "name": "python"
    }
  },
  "cells": [
    {
      "cell_type": "markdown",
      "source": [
        "Tải dữ liệu và hiển thị thông tin cơ bản"
      ],
      "metadata": {
        "id": "PUWa3SS22z7k"
      }
    },
    {
      "cell_type": "code",
      "source": [
        "import pandas as pd\n",
        "\n",
        "# Đọc dữ liệu từ file CSV\n",
        "file_path = \"dulieuxettuyendaihoc.csv\"  # Đảm bảo đường dẫn file đúng\n",
        "df = pd.read_csv(file_path)\n",
        "\n",
        "# Hiển thị thông tin về dữ liệu\n",
        "print(\"Thông tin về dataset:\")\n",
        "print(df.info())\n",
        "\n",
        "# Hiển thị 10 dòng đầu tiên\n",
        "print(\"\\n10 dòng đầu:\")\n",
        "print(df.head(10))\n",
        "\n",
        "# Hiển thị 10 dòng cuối\n",
        "print(\"\\n10 dòng cuối:\")\n",
        "print(df.tail(10))\n"
      ],
      "metadata": {
        "id": "Qm1xqfnM24Nl"
      },
      "execution_count": null,
      "outputs": []
    },
    {
      "cell_type": "markdown",
      "source": [
        "1. Phân loại dữ liệu định tính và định lượng\n",
        "Chúng ta sẽ chia dữ liệu thành hai nhóm:\n",
        "\n",
        "-Dữ liệu định tính (Categorical Data):\n",
        "\n",
        "GT (Giới tính), DT (Dân tộc), KV (Khu vực), KT (Khối thi)\n",
        "\n",
        "-Dữ liệu định lượng (Numerical Data):\n",
        "\n",
        "Các điểm số trung bình (T1, L1, H1, ... đến N6)\n",
        "\n",
        "Các điểm thi đại học (DH1, DH2, DH3)\n"
      ],
      "metadata": {
        "id": "9GArUSMs27z_"
      }
    },
    {
      "cell_type": "code",
      "source": [
        "qualitative_vars = [\"GT\", \"DT\", \"KV\", \"KT\"]\n",
        "quantitative_vars = [col for col in df.columns if col not in qualitative_vars]\n",
        "\n",
        "print(\"Dữ liệu định tính:\", qualitative_vars)\n",
        "print(\"Dữ liệu định lượng:\", quantitative_vars)\n"
      ],
      "metadata": {
        "id": "OGVDAGW63OKC"
      },
      "execution_count": null,
      "outputs": []
    },
    {
      "cell_type": "markdown",
      "source": [
        "2. Định nghĩa thang đo phù hợp cho từng biến số\n",
        "Danh mục (Nominal Scale): GT, DT, KV, KT\n",
        "\n",
        "Thứ tự (Ordinal Scale): XL1, XL2, XL3 (xếp loại học lực)\n",
        "\n",
        "Khoảng (Interval Scale) & Tỉ lệ (Ratio Scale): Các điểm số (T1, DH1, ...)"
      ],
      "metadata": {
        "id": "zxqGh5mG3k26"
      }
    },
    {
      "cell_type": "markdown",
      "source": [
        "3. Đọc dữ liệu và hiển thị 10 dòng đầu và cuối"
      ],
      "metadata": {
        "id": "DnPLW4Dx3vRS"
      }
    },
    {
      "cell_type": "code",
      "source": [
        "print(\"10 dòng đầu:\")\n",
        "print(df.head(10))\n",
        "\n",
        "print(\"\\n10 dòng cuối:\")\n",
        "print(df.tail(10))\n"
      ],
      "metadata": {
        "id": "bY-Lh2Ep4kDS"
      },
      "execution_count": null,
      "outputs": []
    },
    {
      "cell_type": "markdown",
      "source": [
        "4. Xử lý dữ liệu thiếu cho cột DT\n",
        "Chúng ta sẽ thay thế giá trị thiếu của DT bằng 0."
      ],
      "metadata": {
        "id": "hX0AMlM85m1_"
      }
    },
    {
      "cell_type": "code",
      "source": [
        "df[\"DT\"].fillna(0, inplace=True)\n"
      ],
      "metadata": {
        "id": "wMS5-veY50Sk"
      },
      "execution_count": null,
      "outputs": []
    },
    {
      "cell_type": "markdown",
      "source": [
        "Sau đó kiểm tra lại:"
      ],
      "metadata": {
        "id": "dxYO4KNX522z"
      }
    },
    {
      "cell_type": "code",
      "source": [
        "print(df[\"DT\"].isnull().sum())  # Xem còn giá trị thiếu không\n"
      ],
      "metadata": {
        "id": "sgqbuAW-55nW"
      },
      "execution_count": null,
      "outputs": []
    },
    {
      "cell_type": "markdown",
      "source": [
        "5. Xử lý dữ liệu thiếu cho biến T1 bằng phương pháp Mean"
      ],
      "metadata": {
        "id": "fZ7PsUyC5754"
      }
    },
    {
      "cell_type": "code",
      "source": [
        "df[\"T1\"].fillna(df[\"T1\"].mean(), inplace=True)\n"
      ],
      "metadata": {
        "id": "8pf436tI5_r5"
      },
      "execution_count": null,
      "outputs": []
    },
    {
      "cell_type": "markdown",
      "source": [
        "Kiểm tra lại dữ liệu:"
      ],
      "metadata": {
        "id": "8tew_aJl6Bu-"
      }
    },
    {
      "cell_type": "code",
      "source": [
        "print(df[\"T1\"].isnull().sum())  # Phải ra kết quả 0\n"
      ],
      "metadata": {
        "id": "uQ1Il3qt6E0O"
      },
      "execution_count": null,
      "outputs": []
    },
    {
      "cell_type": "markdown",
      "source": [
        "6. Xử lý dữ liệu thiếu cho các biến điểm số khác"
      ],
      "metadata": {
        "id": "vvQOtICe6HT5"
      }
    },
    {
      "cell_type": "code",
      "source": [
        "score_columns = [\"T1\", \"L1\", \"H1\", \"S1\", \"V1\", \"X1\", \"D1\", \"N1\",\n",
        "                 \"T2\", \"L2\", \"H2\", \"S2\", \"V2\", \"X2\", \"D2\", \"N2\",\n",
        "                 \"T6\", \"L6\", \"H6\", \"S6\", \"V6\", \"X6\", \"D6\", \"N6\",\n",
        "                 \"DH1\", \"DH2\", \"DH3\"]\n",
        "\n",
        "for col in score_columns:\n",
        "    df[col].fillna(df[col].mean(), inplace=True)\n",
        "print(df.isnull().sum())  # Phải không còn giá trị thiếu\n"
      ],
      "metadata": {
        "id": "Tt1507O-6Ttd"
      },
      "execution_count": null,
      "outputs": []
    },
    {
      "cell_type": "markdown",
      "source": [
        "7. Tạo biến TBM1, TBM2, TBM3 (Trung bình môn các năm)"
      ],
      "metadata": {
        "id": "A6jhekh76aQ_"
      }
    },
    {
      "cell_type": "code",
      "source": [
        "def calculate_TBM(row, year):\n",
        "    return (row[f\"T{year}\"]*2 + row[f\"L{year}\"] + row[f\"H{year}\"] + row[f\"S{year}\"] +\n",
        "            row[f\"V{year}\"]*2 + row[f\"X{year}\"] + row[f\"D{year}\"] + row[f\"N{year}\"]) / 10\n",
        "\n",
        "df[\"TBM1\"] = df.apply(lambda row: calculate_TBM(row, 1), axis=1)\n",
        "df[\"TBM2\"] = df.apply(lambda row: calculate_TBM(row, 2), axis=1)\n",
        "df[\"TBM3\"] = df.apply(lambda row: calculate_TBM(row, 6), axis=1)\n"
      ],
      "metadata": {
        "id": "QeivQxvt6d0Z"
      },
      "execution_count": null,
      "outputs": []
    },
    {
      "cell_type": "markdown",
      "source": [
        "8. Tạo biến xếp loại XL1, XL2, XL3"
      ],
      "metadata": {
        "id": "A1dUGMO06hJZ"
      }
    },
    {
      "cell_type": "code",
      "source": [
        "def classify_grade(score):\n",
        "    if score < 5.0:\n",
        "        return \"Y\"\n",
        "    elif 5.0 <= score < 6.5:\n",
        "        return \"TB\"\n",
        "    elif 6.5 <= score < 8.0:\n",
        "        return \"K\"\n",
        "    elif 8.0 <= score < 9.0:\n",
        "        return \"G\"\n",
        "    else:\n",
        "        return \"XS\"\n",
        "\n",
        "df[\"XL1\"] = df[\"TBM1\"].apply(classify_grade)\n",
        "df[\"XL2\"] = df[\"TBM2\"].apply(classify_grade)\n",
        "df[\"XL3\"] = df[\"TBM3\"].apply(classify_grade)\n"
      ],
      "metadata": {
        "id": "JHuKPL-a6j5S"
      },
      "execution_count": null,
      "outputs": []
    },
    {
      "cell_type": "markdown",
      "source": [
        "9. Chuyển điểm TBM sang thang điểm 4 (US_TBM)"
      ],
      "metadata": {
        "id": "D5HfCGWF6qZX"
      }
    },
    {
      "cell_type": "code",
      "source": [
        "def min_max_scale(x, min_val, max_val):\n",
        "    return 4 * (x - min_val) / (max_val - min_val)\n",
        "\n",
        "min_tbm = df[[\"TBM1\", \"TBM2\", \"TBM3\"]].min().min()\n",
        "max_tbm = df[[\"TBM1\", \"TBM2\", \"TBM3\"]].max().max()\n",
        "\n",
        "df[\"US_TBM1\"] = df[\"TBM1\"].apply(lambda x: min_max_scale(x, min_tbm, max_tbm))\n",
        "df[\"US_TBM2\"] = df[\"TBM2\"].apply(lambda x: min_max_scale(x, min_tbm, max_tbm))\n",
        "df[\"US_TBM3\"] = df[\"TBM3\"].apply(lambda x: min_max_scale(x, min_tbm, max_tbm))\n"
      ],
      "metadata": {
        "id": "_cOV6Ahx6t7f"
      },
      "execution_count": null,
      "outputs": []
    },
    {
      "cell_type": "markdown",
      "source": [
        "10. Tạo biến KQXT (Kết quả xét tuyển đậu/rớt)"
      ],
      "metadata": {
        "id": "dD-UMxIv6y92"
      }
    },
    {
      "cell_type": "code",
      "source": [
        "def determine_result(row):\n",
        "    if row[\"KT\"] in [\"A\", \"A1\"]:\n",
        "        score = (row[\"DH1\"]*2 + row[\"DH2\"] + row[\"DH3\"]) / 4\n",
        "    elif row[\"KT\"] == \"B\":\n",
        "        score = (row[\"DH1\"] + row[\"DH2\"]*2 + row[\"DH3\"]) / 4\n",
        "    else:\n",
        "        score = (row[\"DH1\"] + row[\"DH2\"] + row[\"DH3\"]) / 3\n",
        "\n",
        "    return 1 if score >= 5.0 else 0\n",
        "\n",
        "df[\"KQXT\"] = df.apply(determine_result, axis=1)\n"
      ],
      "metadata": {
        "id": "r-FTpYYA6zoO"
      },
      "execution_count": null,
      "outputs": []
    },
    {
      "cell_type": "markdown",
      "source": [
        "11. Lưu dữ liệu đã xử lý vào file CSV mới"
      ],
      "metadata": {
        "id": "Fr-OXH8W63HS"
      }
    },
    {
      "cell_type": "code",
      "source": [
        "df.to_csv(\"processed_dulieuxettuyendaihoc.csv\", index=False)\n",
        "print(\"Dữ liệu đã được lưu thành công!\")\n"
      ],
      "metadata": {
        "id": "QT-l5Ftg67A8"
      },
      "execution_count": null,
      "outputs": []
    },
    {
      "cell_type": "markdown",
      "source": [],
      "metadata": {
        "id": "CIeeEa_P37Un"
      }
    }
  ]
}