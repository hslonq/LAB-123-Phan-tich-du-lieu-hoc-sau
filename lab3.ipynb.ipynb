{
  "nbformat": 4,
  "nbformat_minor": 0,
  "metadata": {
    "colab": {
      "provenance": []
    },
    "kernelspec": {
      "name": "python3",
      "display_name": "Python 3"
    },
    "language_info": {
      "name": "python"
    }
  },
  "cells": [
    {
      "cell_type": "code",
      "execution_count": null,
      "metadata": {
        "id": "eEjnCut91vSL"
      },
      "outputs": [],
      "source": [
        "import pandas as pd\n",
        "import numpy as np\n",
        "\n",
        "# Định nghĩa tên cột\n",
        "column_names = [\"Id\", \"Name\", \"Age\", \"Weight\", \"m0006\", \"m0612\", \"m1218\", \"f0006\", \"f0612\", \"f1218\"]\n",
        "\n",
        "# Đọc file CSV và thêm header\n",
        "file_path = \"patient_heart_rate.csv\"\n",
        "df = pd.read_csv(file_path, names=column_names)\n",
        "\n",
        "# Tách cột Name thành Firstname và Lastname\n",
        "df[['Firstname', 'Lastname']] = df['Name'].str.split(expand=True)\n",
        "df.drop(columns=['Name'], inplace=True)\n",
        "\n",
        "# Chuẩn hóa đơn vị cột Weight (giả sử có lbs chuyển sang kg)\n",
        "def convert_weight(value):\n",
        "    if isinstance(value, str) and \"lbs\" in value:\n",
        "        return round(float(value.replace(\"lbs\", \"\")) * 0.453592, 2)\n",
        "    return float(value)\n",
        "df['Weight'] = df['Weight'].apply(convert_weight)\n",
        "\n",
        "# Xóa dòng trống\n",
        "df.dropna(how='all', inplace=True)\n",
        "\n",
        "# Loại bỏ dòng trùng lặp\n",
        "df.drop_duplicates(inplace=True)\n",
        "\n",
        "# Xử lý ký tự không phải ASCII\n",
        "def remove_non_ascii(text):\n",
        "    if isinstance(text, str):\n",
        "        return text.encode(\"ascii\", \"ignore\").decode()\n",
        "    return text\n",
        "df = df.applymap(remove_non_ascii)\n",
        "\n",
        "# Xử lý giá trị thiếu của Age và Weight\n",
        "df['Age'].fillna(df['Age'].mean(), inplace=True)\n",
        "df['Weight'].fillna(df['Weight'].mean(), inplace=True)\n",
        "df.dropna(subset=['Age', 'Weight'], how='all', inplace=True)\n",
        "\n",
        "# Tách dữ liệu từ các cột huyết áp\n",
        "def process_pulse_rate(value):\n",
        "    if pd.isna(value):\n",
        "        return np.nan\n",
        "    return int(value)\n",
        "df[['m0006', 'm0612', 'm1218', 'f0006', 'f0612', 'f1218']] = df[['m0006', 'm0612', 'm1218', 'f0006', 'f0612', 'f1218']].applymap(process_pulse_rate)\n",
        "\n",
        "# Xử lý giá trị thiếu trong các cột huyết áp\n",
        "heart_rate_columns = ['m0006', 'm0612', 'm1218', 'f0006', 'f0612', 'f1218']\n",
        "for col in heart_rate_columns:\n",
        "    df[col] = df[col].fillna(df[col].interpolate(method='linear', limit_direction='both'))\n",
        "    df[col].fillna(df[col].mean(), inplace=True)\n",
        "\n",
        "# Lưu dữ liệu đã xử lý vào file mới\n",
        "df.to_csv(\"patient_heart_rate_clean.csv\", index=False)\n",
        "\n",
        "print(\"Data cleaning complete. Processed file saved as 'patient_heart_rate_clean.csv'.\")\n"
      ]
    }
  ]
}