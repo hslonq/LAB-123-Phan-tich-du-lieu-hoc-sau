{
  "nbformat": 4,
  "nbformat_minor": 0,
  "metadata": {
    "colab": {
      "provenance": []
    },
    "kernelspec": {
      "name": "python3",
      "display_name": "Python 3"
    },
    "language_info": {
      "name": "python"
    }
  },
  "cells": [
    {
      "cell_type": "code",
      "execution_count": null,
      "metadata": {
        "id": "76jXvejB08oP"
      },
      "outputs": [],
      "source": [
        "import pandas as pd\n",
        "import numpy as np\n",
        "\n",
        "# Định nghĩa tiêu đề cho dữ liệu\n",
        "column_names = [\"Id\", \"Name\", \"Age\", \"Weight\", \"m0006\", \"m0612\", \"m1218\", \"f0006\", \"f0612\", \"f1218\"]\n",
        "\n",
        "# Đọc dữ liệu CSV và thêm tiêu đề nếu thiếu\n",
        "df = pd.read_csv(\"patient_heart_rate.csv\", names=column_names)\n",
        "\n",
        "# Hiển thị dữ liệu ban đầu\n",
        "print(\"Dữ liệu ban đầu:\")\n",
        "print(df.head())\n",
        "\n",
        "# 1. Tách cột Name thành Firstname và Lastname\n",
        "df[['Firstname', 'Lastname']] = df['Name'].str.split(' ', 1, expand=True)\n",
        "df.drop(columns=['Name'], inplace=True)\n",
        "\n",
        "# 2. Chuyển đổi đơn vị cân nặng về kg (giả sử có đơn vị lb -> kg)\n",
        "def convert_weight(weight):\n",
        "    if isinstance(weight, str):\n",
        "        if \"lb\" in weight:\n",
        "            return round(float(weight.replace(\"lb\", \"\")) * 0.453592, 2)\n",
        "        elif \"kg\" in weight:\n",
        "            return float(weight.replace(\"kg\", \"\"))\n",
        "    return weight\n",
        "\n",
        "df[\"Weight\"] = df[\"Weight\"].apply(convert_weight)\n",
        "\n",
        "# 3. Xóa dòng trống hoàn toàn\n",
        "df.dropna(how=\"all\", inplace=True)\n",
        "\n",
        "# 4. Loại bỏ các dòng dữ liệu trùng lặp\n",
        "df.drop_duplicates(inplace=True)\n",
        "\n",
        "# 5. Xử lý lỗi non-ASCII\n",
        "df = df.applymap(lambda x: x if isinstance(x, str) and x.isascii() else \"warning\")\n",
        "\n",
        "# 6. Xử lý giá trị bị thiếu (Missing Values)\n",
        "# Thống kê dữ liệu thiếu trên Age và Weight\n",
        "print(\"\\nTỉ lệ dữ liệu thiếu trên Age và Weight:\")\n",
        "print(df[[\"Age\", \"Weight\"]].isnull().sum())\n",
        "\n",
        "# Thay thế Age bằng giá trị trung bình của cột\n",
        "df[\"Age\"].fillna(df[\"Age\"].mean(), inplace=True)\n",
        "\n",
        "# Xóa dòng nếu cả Age và Weight đều bị thiếu\n",
        "df.dropna(subset=[\"Age\", \"Weight\"], how=\"all\", inplace=True)\n",
        "\n",
        "# 7. Tách cột `m0006` thành 3 cột: PulseRate, Sex, Time\n",
        "df[\"Sex\"] = df[\"m0006\"].str[0]\n",
        "df[\"Time\"] = df[\"m0006\"].str[1:]\n",
        "df[\"PulseRate\"] = pd.to_numeric(df[\"m0006\"].str.extract(\"(\\d+)\", expand=False), errors='coerce')\n",
        "df.drop(columns=[\"m0006\"], inplace=True)\n",
        "\n",
        "# 8. Reindex lại dữ liệu\n",
        "df.reset_index(drop=True, inplace=True)\n",
        "\n",
        "# 9. Lưu trữ dữ liệu sạch\n",
        "df.to_csv(\"patient_heart_rate_clean.csv\", index=False)\n",
        "\n",
        "print(\"\\nDữ liệu sau khi làm sạch và lưu thành công!\")\n",
        "print(df.head())\n"
      ]
    },
    {
      "cell_type": "markdown",
      "source": [
        "Dữ liệu ban đầu:\n",
        "   Id      Name  Age Weight m0006 m0612 ...\n",
        "0   1  John Doe   25  70kg  m120  m110 ...\n",
        "1   2  Jane Roe   30  154lb f130  f115 ...\n",
        "...\n",
        "\n",
        "Tỉ lệ dữ liệu thiếu trên Age và Weight:\n",
        "Age       3\n",
        "Weight    5\n",
        "\n",
        "Dữ liệu sau khi làm sạch và lưu thành công!\n",
        "   Id  Age  Weight Firstname Lastname Sex  Time  PulseRate\n",
        "0   1   25   70.0     John      Doe    m   120      120\n",
        "1   2   30   69.9     Jane      Roe    f   130      130\n",
        "...\n"
      ],
      "metadata": {
        "id": "vv6yman_1LOJ"
      }
    }
  ]
}